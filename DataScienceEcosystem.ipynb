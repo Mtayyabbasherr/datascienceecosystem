{
 "cells": [
  {
   "cell_type": "markdown",
   "id": "f758c630-c7ff-4cd4-989d-b5d1fddf10d1",
   "metadata": {},
   "source": [
    "   Data Science Tools and Ecosystem\n",
    "\n"
   ]
  },
  {
   "cell_type": "markdown",
   "id": "46723be0-73b5-41bc-ba83-d5c8ae393129",
   "metadata": {},
   "source": [
    "In this notebook, Data Science Tools and Ecosystem are summarized.\n"
   ]
  },
  {
   "cell_type": "markdown",
   "id": "c8ff235c-b3b4-4113-bcbe-5399363ca72c",
   "metadata": {},
   "source": [
    "**Objectives:**\n",
    "\n",
    "- List popular programming languages for Data Science.\n",
    "- Explain the basic principles of data visualization.\n",
    "- Introduce common open-source tools used in Data Science.\n",
    "- Provide examples of evaluating arithmetic expressions in Python.\n",
    "- Demonstrate how to convert units, such as minutes to hours, using Python.\n"
   ]
  },
  {
   "cell_type": "markdown",
   "id": "ccc5781f-445d-4cf8-8047-25a3645e5d74",
   "metadata": {},
   "source": [
    "\"Some of the popular languages that Data Scientists use are:\"\n",
    "1.python\n",
    "2.R\n",
    "3.Swift\n",
    "\n"
   ]
  },
  {
   "cell_type": "markdown",
   "id": "88ad61c5-26c6-48c3-9f06-1d50fe5c2af9",
   "metadata": {},
   "source": [
    "Some of the common used Libraries used by Data Scientists include:\n",
    "1.Num py\n",
    "2.Pandas\n",
    "3.SciPy\n",
    "4.NLTK\n"
   ]
  },
  {
   "cell_type": "markdown",
   "id": "7064f68a-1897-4049-87f6-8ce9ad9db61b",
   "metadata": {},
   "source": [
    "| Data science Tools   |\n",
    "|---|---|\n",
    "| jypter noteBook |\n",
    "| RStudio |\n",
    "| Power BI |"
   ]
  },
  {
   "cell_type": "markdown",
   "id": "676773ac-480c-48e5-8d6a-6f1943015a81",
   "metadata": {},
   "source": [
    "| Data Science Tools    |\n",
    "|-----------------------|\n",
    "| Jupyter Notebook      |\n",
    "| RStudio               |\n",
    "| Visual Studio Code    |\n",
    "\n",
    " "
   ]
  },
  {
   "cell_type": "markdown",
   "id": "9e4d2b32-f228-4939-967b-52ba6067d4ad",
   "metadata": {},
   "source": [
    "### Below are a few examples of evaluating arithmetic expressions in Python.\r\n"
   ]
  },
  {
   "cell_type": "code",
   "execution_count": 2,
   "id": "eebc5b1c-5693-4b5e-bde9-a167184e52b7",
   "metadata": {},
   "outputs": [
    {
     "data": {
      "text/plain": [
       "17"
      ]
     },
     "execution_count": 2,
     "metadata": {},
     "output_type": "execute_result"
    }
   ],
   "source": [
    "# This is a simple arithmetic expression to multiply then add integers.\r\n",
    "result = (3*4) + 5\r\n",
    "result\r\n"
   ]
  },
  {
   "cell_type": "code",
   "execution_count": 3,
   "id": "d9897c27-f13a-4a9f-b718-fb5e1de5c937",
   "metadata": {},
   "outputs": [
    {
     "data": {
      "text/plain": [
       "3.3333333333333335"
      ]
     },
     "execution_count": 3,
     "metadata": {},
     "output_type": "execute_result"
    }
   ],
   "source": [
    "# This will convert 200 minutes to hours by dividing by 60.\n",
    "minutes = 200\n",
    "hours = minutes / 60\n",
    "hours\n"
   ]
  },
  {
   "cell_type": "markdown",
   "id": "659a4ce3-4ad8-44bd-a5f7-1c47e2981fb8",
   "metadata": {},
   "source": [
    "## Author\r\n",
    "\r\n",
    "Lakshmi Holla\r\n",
    "Niveditha Pandith\r\n"
   ]
  },
  {
   "cell_type": "code",
   "execution_count": null,
   "id": "c44b08ca-b2df-43c3-8654-5d630f5e2f39",
   "metadata": {},
   "outputs": [],
   "source": []
  }
 ],
 "metadata": {
  "kernelspec": {
   "display_name": "Python 3 (ipykernel)",
   "language": "python",
   "name": "python3"
  },
  "language_info": {
   "codemirror_mode": {
    "name": "ipython",
    "version": 3
   },
   "file_extension": ".py",
   "mimetype": "text/x-python",
   "name": "python",
   "nbconvert_exporter": "python",
   "pygments_lexer": "ipython3",
   "version": "3.12.0"
  }
 },
 "nbformat": 4,
 "nbformat_minor": 5
}
